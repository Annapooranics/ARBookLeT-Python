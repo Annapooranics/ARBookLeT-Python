{
  "nbformat": 4,
  "nbformat_minor": 0,
  "metadata": {
    "colab": {
      "name": "Untitled2.ipynb",
      "provenance": [],
      "collapsed_sections": [],
      "authorship_tag": "ABX9TyNacWxaX3lQj0jQGJeyPF4J",
      "include_colab_link": true
    },
    "kernelspec": {
      "name": "python3",
      "display_name": "Python 3"
    },
    "language_info": {
      "name": "python"
    }
  },
  "cells": [
    {
      "cell_type": "markdown",
      "metadata": {
        "id": "view-in-github",
        "colab_type": "text"
      },
      "source": [
        "<a href=\"https://colab.research.google.com/github/Annapooranics/ARBookLeT-Python/blob/main/Python_Numpy.ipynb\" target=\"_parent\"><img src=\"https://colab.research.google.com/assets/colab-badge.svg\" alt=\"Open In Colab\"/></a>"
      ]
    },
    {
      "cell_type": "code",
      "metadata": {
        "colab": {
          "base_uri": "https://localhost:8080/"
        },
        "id": "B-2bogVGud8i",
        "outputId": "7ac04d49-6d23-4c1c-cf06-926a1822402a"
      },
      "source": [
        "import numpy as np\n",
        "#CREATE ARRAY\n",
        "weight=[23,45,65.70]\n",
        "print(\"Type of Weight\",type(weight))\n",
        "#create Numpy Array\n",
        "weight_array=np.array(weight)\n",
        "print(\"Type of weight_array\",type(weight_array))\n",
        "\n"
      ],
      "execution_count": 2,
      "outputs": [
        {
          "output_type": "stream",
          "name": "stdout",
          "text": [
            "Type of Weight <class 'list'>\n",
            "Type of weight_array <class 'numpy.ndarray'>\n"
          ]
        }
      ]
    },
    {
      "cell_type": "code",
      "metadata": {
        "colab": {
          "base_uri": "https://localhost:8080/"
        },
        "id": "81MLsyr_lVZZ",
        "outputId": "2a7cc2df-b975-441d-caca-10d75490da13"
      },
      "source": [
        "import numpy as np\n",
        "np.random.random(4) #np.random.random(size=4) , np.random.random(2,3) // wrong\n",
        "np.random.rand(2,3) # \n",
        "np.random.randn(5)\n",
        "np.random.randint(2,6,5)\n",
        "np.arange(1,20,3)#np.arange(start=1,stop=20,step=3)\n",
        "np.linspace(1,20,5)"
      ],
      "execution_count": 16,
      "outputs": [
        {
          "output_type": "execute_result",
          "data": {
            "text/plain": [
              "array([ 1.  ,  5.75, 10.5 , 15.25, 20.  ])"
            ]
          },
          "metadata": {},
          "execution_count": 16
        }
      ]
    },
    {
      "cell_type": "code",
      "metadata": {
        "colab": {
          "base_uri": "https://localhost:8080/"
        },
        "id": "z5uUoVtqyccc",
        "outputId": "7fdbc562-2dc4-481b-83cc-a73a74eb3c14"
      },
      "source": [
        "np.zeros(shape=(2,3,2)) \n",
        "np.ones(shape=(2,4),dtype=int)\n",
        "empty_array=np.empty(shape=4)\n",
        "np.full((2,2), fill_value=5)"
      ],
      "execution_count": 27,
      "outputs": [
        {
          "output_type": "execute_result",
          "data": {
            "text/plain": [
              "array([[5, 5],\n",
              "       [5, 5]])"
            ]
          },
          "metadata": {},
          "execution_count": 27
        }
      ]
    },
    {
      "cell_type": "code",
      "metadata": {
        "colab": {
          "base_uri": "https://localhost:8080/"
        },
        "id": "qam80OH_3KKE",
        "outputId": "32aa47f9-3475-49b3-9db8-768122461241"
      },
      "source": [
        "np.identity(3)\n",
        "np.eye(3,3,-1)\n",
        "array_string=np.array([\"Python\",\"for\",\"Data\",\"Science\"])\n",
        "array_string.shape #No of rows and columns\n",
        "array_string.ndim  #No of axes or dimensions\n",
        "array_string.dtype\n",
        "array_string.size #No of elements"
      ],
      "execution_count": 46,
      "outputs": [
        {
          "output_type": "execute_result",
          "data": {
            "text/plain": [
              "4"
            ]
          },
          "metadata": {},
          "execution_count": 46
        }
      ]
    },
    {
      "cell_type": "code",
      "metadata": {
        "id": "gEUaTZP1Ipk5"
      },
      "source": [
        ""
      ],
      "execution_count": null,
      "outputs": []
    }
  ]
}